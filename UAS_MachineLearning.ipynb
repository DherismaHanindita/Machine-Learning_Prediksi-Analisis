{
  "nbformat": 4,
  "nbformat_minor": 0,
  "metadata": {
    "colab": {
      "provenance": [],
      "include_colab_link": true
    },
    "kernelspec": {
      "name": "python3",
      "display_name": "Python 3"
    },
    "language_info": {
      "name": "python"
    }
  },
  "cells": [
    {
      "cell_type": "markdown",
      "metadata": {
        "id": "view-in-github",
        "colab_type": "text"
      },
      "source": [
        "<a href=\"https://colab.research.google.com/github/DherismaHanindita/Machine-Learning_Prediksi-Analisis/blob/main/UAS_MachineLearning.ipynb\" target=\"_parent\"><img src=\"https://colab.research.google.com/assets/colab-badge.svg\" alt=\"Open In Colab\"/></a>"
      ]
    },
    {
      "cell_type": "code",
      "source": [
        "from IPython.display import Image\n",
        "Image(url='https://assets.mitsubishi-motors.co.id/articles/1565867067-6jpeg.jpeg', width=600)"
      ],
      "metadata": {
        "colab": {
          "base_uri": "https://localhost:8080/",
          "height": 421
        },
        "id": "ivrSIwjLCjoZ",
        "outputId": "a44899bb-d1d8-46ad-e296-de487b3a82f9"
      },
      "execution_count": null,
      "outputs": [
        {
          "output_type": "execute_result",
          "data": {
            "text/html": [
              "<img src=\"https://assets.mitsubishi-motors.co.id/articles/1565867067-6jpeg.jpeg\" width=\"600\"/>"
            ],
            "text/plain": [
              "<IPython.core.display.Image object>"
            ]
          },
          "metadata": {},
          "execution_count": 1
        }
      ]
    },
    {
      "cell_type": "markdown",
      "source": [
        "Pada tugas besar kedua Pembelajaran masin ini, akan dilakukan klasifikasi (*supervised learning*) terhadap data Kendaraan Motor milik Dealer untuk melakukan prediksi\n",
        "apakah pelanggan untuk membeli kendaraan atau tidak berdasarkan dataset yang disediakan. Pada percobaan klasifikasi dataset tersebut, kami menggunakan\n",
        "beberapa model untuk mengklasifikasikan dataset berdasarkan ketertarikan pelanggan untuk membeli kendaraan atau tidak."
      ],
      "metadata": {
        "id": "PsOYBoLi89k0"
      }
    },
    {
      "cell_type": "markdown",
      "source": [
        "**Deskripsi fitur pada dataset**\n",
        "\n",
        "Penjelasan dari fitur-fitur dataset :\n",
        "1. id : identitas pelanggan yang terdaftar\n",
        "2. jenis_kelamin : jenis kelamin\n",
        "3. umur : umur\n",
        "4. SIM : kepemilikan SIM\n",
        "5. kode daerah : kode daerah tempat tinggal pelanggan\n",
        "6. sudah asuransi : sudah pernah asuransi / belum\n",
        "7. umur kendaraan : umur kendaraan\n",
        "8. kendaraan rusak : mobil pelanggan pernah rusak atau belum\n",
        "9. premi : jumlah premi yang harus dibayarkan\n",
        "10. kanal penjualan : kode kanal untuk menghubungi pelanggan (email, telpon, dll)\n",
        "11. lama berlangganan : durasi pelanggan menjadi klien perusahaan\n",
        "12. tertarik : tertarik atau tidak tertarik"
      ],
      "metadata": {
        "id": "vRJ4d3w0AEiE"
      }
    },
    {
      "cell_type": "markdown",
      "source": [],
      "metadata": {
        "id": "RYw2NGjZCjbR"
      }
    },
    {
      "cell_type": "code",
      "execution_count": null,
      "metadata": {
        "colab": {
          "base_uri": "https://localhost:8080/"
        },
        "id": "qbz5voGE7k7S",
        "outputId": "e4b7c020-4451-40a4-f864-69dac71b6304"
      },
      "outputs": [
        {
          "output_type": "stream",
          "name": "stdout",
          "text": [
            "Mounted at /content/drive\n"
          ]
        }
      ],
      "source": [
        "from google.colab import drive\n",
        "drive.mount('/content/drive')"
      ]
    },
    {
      "cell_type": "code",
      "source": [
        "import pandas as pd\n",
        "import numpy as np\n",
        "import matplotlib.pyplot as plt\n",
        "import seaborn as sns\n",
        "\n",
        "%matplotlib inline\n",
        "\n",
        "plt.style.use('bmh')"
      ],
      "metadata": {
        "id": "sXwDH4Za-CEP"
      },
      "execution_count": null,
      "outputs": []
    },
    {
      "cell_type": "markdown",
      "source": [
        "*Data training* nantinya akan digunakan untuk melatih algoritma dalam mencari model yang sesuai, sedangkan *data testing* akan dipakai untuk menguji dan mengetahui performa model yang didapatkan pada tahapan testing."
      ],
      "metadata": {
        "id": "rWfo_EMABHru"
      }
    },
    {
      "cell_type": "code",
      "source": [
        "#Panggil file (load file bernama Stock.csv) dan simpan dalam dataframe\n",
        "dataset_train = \"/content/drive/MyDrive/Colab Notebooks/Machine Learning/UAS/datasets/kendaraan_train.csv\"\n",
        "dataset_test = \"/content/drive/MyDrive/Colab Notebooks/Machine Learning/UAS/datasets/kendaraan_test.csv\"\n",
        "dataTrain = pd.read_csv(dataset_train)\n",
        "dataTest = pd.read_csv(dataset_test)"
      ],
      "metadata": {
        "id": "1oG84c-Q-Knv"
      },
      "execution_count": null,
      "outputs": []
    },
    {
      "cell_type": "code",
      "source": [
        "dataTrain.head(10)\n",
        "# dataTrain.shape"
      ],
      "metadata": {
        "colab": {
          "base_uri": "https://localhost:8080/",
          "height": 427
        },
        "id": "0Qma-QFE-XsB",
        "outputId": "0f847219-359b-416f-e416-9b307a50c862"
      },
      "execution_count": null,
      "outputs": [
        {
          "output_type": "execute_result",
          "data": {
            "text/plain": [
              "   id Jenis_Kelamin  Umur  SIM  Kode_Daerah  Sudah_Asuransi Umur_Kendaraan  \\\n",
              "0   1        Wanita  30.0  1.0         33.0             1.0      < 1 Tahun   \n",
              "1   2          Pria  48.0  1.0         39.0             0.0      > 2 Tahun   \n",
              "2   3           NaN  21.0  1.0         46.0             1.0      < 1 Tahun   \n",
              "3   4        Wanita  58.0  1.0         48.0             0.0      1-2 Tahun   \n",
              "4   5          Pria  50.0  1.0         35.0             0.0      > 2 Tahun   \n",
              "5   6          Pria  21.0  1.0         35.0             1.0      < 1 Tahun   \n",
              "6   7        Wanita  33.0  1.0          8.0             0.0            NaN   \n",
              "7   8          Pria  23.0  NaN         28.0             1.0      < 1 Tahun   \n",
              "8   9        Wanita  20.0  1.0          8.0             1.0      < 1 Tahun   \n",
              "9  10           NaN  54.0  1.0         29.0             0.0      > 2 Tahun   \n",
              "\n",
              "  Kendaraan_Rusak    Premi  Kanal_Penjualan  Lama_Berlangganan  Tertarik  \n",
              "0           Tidak  28029.0            152.0               97.0         0  \n",
              "1          Pernah  25800.0             29.0              158.0         0  \n",
              "2           Tidak  32733.0            160.0              119.0         0  \n",
              "3           Tidak   2630.0            124.0               63.0         0  \n",
              "4             NaN  34857.0             88.0              194.0         0  \n",
              "5           Tidak  22735.0            152.0              171.0         0  \n",
              "6          Pernah  32435.0            124.0              215.0         1  \n",
              "7           Tidak  26869.0            152.0              222.0         0  \n",
              "8           Tidak  30786.0            160.0               31.0         0  \n",
              "9          Pernah  88883.0            124.0               28.0         1  "
            ],
            "text/html": [
              "\n",
              "  <div id=\"df-37f55d5f-3915-448d-85e9-bd9eba7d56fb\">\n",
              "    <div class=\"colab-df-container\">\n",
              "      <div>\n",
              "<style scoped>\n",
              "    .dataframe tbody tr th:only-of-type {\n",
              "        vertical-align: middle;\n",
              "    }\n",
              "\n",
              "    .dataframe tbody tr th {\n",
              "        vertical-align: top;\n",
              "    }\n",
              "\n",
              "    .dataframe thead th {\n",
              "        text-align: right;\n",
              "    }\n",
              "</style>\n",
              "<table border=\"1\" class=\"dataframe\">\n",
              "  <thead>\n",
              "    <tr style=\"text-align: right;\">\n",
              "      <th></th>\n",
              "      <th>id</th>\n",
              "      <th>Jenis_Kelamin</th>\n",
              "      <th>Umur</th>\n",
              "      <th>SIM</th>\n",
              "      <th>Kode_Daerah</th>\n",
              "      <th>Sudah_Asuransi</th>\n",
              "      <th>Umur_Kendaraan</th>\n",
              "      <th>Kendaraan_Rusak</th>\n",
              "      <th>Premi</th>\n",
              "      <th>Kanal_Penjualan</th>\n",
              "      <th>Lama_Berlangganan</th>\n",
              "      <th>Tertarik</th>\n",
              "    </tr>\n",
              "  </thead>\n",
              "  <tbody>\n",
              "    <tr>\n",
              "      <th>0</th>\n",
              "      <td>1</td>\n",
              "      <td>Wanita</td>\n",
              "      <td>30.0</td>\n",
              "      <td>1.0</td>\n",
              "      <td>33.0</td>\n",
              "      <td>1.0</td>\n",
              "      <td>&lt; 1 Tahun</td>\n",
              "      <td>Tidak</td>\n",
              "      <td>28029.0</td>\n",
              "      <td>152.0</td>\n",
              "      <td>97.0</td>\n",
              "      <td>0</td>\n",
              "    </tr>\n",
              "    <tr>\n",
              "      <th>1</th>\n",
              "      <td>2</td>\n",
              "      <td>Pria</td>\n",
              "      <td>48.0</td>\n",
              "      <td>1.0</td>\n",
              "      <td>39.0</td>\n",
              "      <td>0.0</td>\n",
              "      <td>&gt; 2 Tahun</td>\n",
              "      <td>Pernah</td>\n",
              "      <td>25800.0</td>\n",
              "      <td>29.0</td>\n",
              "      <td>158.0</td>\n",
              "      <td>0</td>\n",
              "    </tr>\n",
              "    <tr>\n",
              "      <th>2</th>\n",
              "      <td>3</td>\n",
              "      <td>NaN</td>\n",
              "      <td>21.0</td>\n",
              "      <td>1.0</td>\n",
              "      <td>46.0</td>\n",
              "      <td>1.0</td>\n",
              "      <td>&lt; 1 Tahun</td>\n",
              "      <td>Tidak</td>\n",
              "      <td>32733.0</td>\n",
              "      <td>160.0</td>\n",
              "      <td>119.0</td>\n",
              "      <td>0</td>\n",
              "    </tr>\n",
              "    <tr>\n",
              "      <th>3</th>\n",
              "      <td>4</td>\n",
              "      <td>Wanita</td>\n",
              "      <td>58.0</td>\n",
              "      <td>1.0</td>\n",
              "      <td>48.0</td>\n",
              "      <td>0.0</td>\n",
              "      <td>1-2 Tahun</td>\n",
              "      <td>Tidak</td>\n",
              "      <td>2630.0</td>\n",
              "      <td>124.0</td>\n",
              "      <td>63.0</td>\n",
              "      <td>0</td>\n",
              "    </tr>\n",
              "    <tr>\n",
              "      <th>4</th>\n",
              "      <td>5</td>\n",
              "      <td>Pria</td>\n",
              "      <td>50.0</td>\n",
              "      <td>1.0</td>\n",
              "      <td>35.0</td>\n",
              "      <td>0.0</td>\n",
              "      <td>&gt; 2 Tahun</td>\n",
              "      <td>NaN</td>\n",
              "      <td>34857.0</td>\n",
              "      <td>88.0</td>\n",
              "      <td>194.0</td>\n",
              "      <td>0</td>\n",
              "    </tr>\n",
              "    <tr>\n",
              "      <th>5</th>\n",
              "      <td>6</td>\n",
              "      <td>Pria</td>\n",
              "      <td>21.0</td>\n",
              "      <td>1.0</td>\n",
              "      <td>35.0</td>\n",
              "      <td>1.0</td>\n",
              "      <td>&lt; 1 Tahun</td>\n",
              "      <td>Tidak</td>\n",
              "      <td>22735.0</td>\n",
              "      <td>152.0</td>\n",
              "      <td>171.0</td>\n",
              "      <td>0</td>\n",
              "    </tr>\n",
              "    <tr>\n",
              "      <th>6</th>\n",
              "      <td>7</td>\n",
              "      <td>Wanita</td>\n",
              "      <td>33.0</td>\n",
              "      <td>1.0</td>\n",
              "      <td>8.0</td>\n",
              "      <td>0.0</td>\n",
              "      <td>NaN</td>\n",
              "      <td>Pernah</td>\n",
              "      <td>32435.0</td>\n",
              "      <td>124.0</td>\n",
              "      <td>215.0</td>\n",
              "      <td>1</td>\n",
              "    </tr>\n",
              "    <tr>\n",
              "      <th>7</th>\n",
              "      <td>8</td>\n",
              "      <td>Pria</td>\n",
              "      <td>23.0</td>\n",
              "      <td>NaN</td>\n",
              "      <td>28.0</td>\n",
              "      <td>1.0</td>\n",
              "      <td>&lt; 1 Tahun</td>\n",
              "      <td>Tidak</td>\n",
              "      <td>26869.0</td>\n",
              "      <td>152.0</td>\n",
              "      <td>222.0</td>\n",
              "      <td>0</td>\n",
              "    </tr>\n",
              "    <tr>\n",
              "      <th>8</th>\n",
              "      <td>9</td>\n",
              "      <td>Wanita</td>\n",
              "      <td>20.0</td>\n",
              "      <td>1.0</td>\n",
              "      <td>8.0</td>\n",
              "      <td>1.0</td>\n",
              "      <td>&lt; 1 Tahun</td>\n",
              "      <td>Tidak</td>\n",
              "      <td>30786.0</td>\n",
              "      <td>160.0</td>\n",
              "      <td>31.0</td>\n",
              "      <td>0</td>\n",
              "    </tr>\n",
              "    <tr>\n",
              "      <th>9</th>\n",
              "      <td>10</td>\n",
              "      <td>NaN</td>\n",
              "      <td>54.0</td>\n",
              "      <td>1.0</td>\n",
              "      <td>29.0</td>\n",
              "      <td>0.0</td>\n",
              "      <td>&gt; 2 Tahun</td>\n",
              "      <td>Pernah</td>\n",
              "      <td>88883.0</td>\n",
              "      <td>124.0</td>\n",
              "      <td>28.0</td>\n",
              "      <td>1</td>\n",
              "    </tr>\n",
              "  </tbody>\n",
              "</table>\n",
              "</div>\n",
              "      <button class=\"colab-df-convert\" onclick=\"convertToInteractive('df-37f55d5f-3915-448d-85e9-bd9eba7d56fb')\"\n",
              "              title=\"Convert this dataframe to an interactive table.\"\n",
              "              style=\"display:none;\">\n",
              "        \n",
              "  <svg xmlns=\"http://www.w3.org/2000/svg\" height=\"24px\"viewBox=\"0 0 24 24\"\n",
              "       width=\"24px\">\n",
              "    <path d=\"M0 0h24v24H0V0z\" fill=\"none\"/>\n",
              "    <path d=\"M18.56 5.44l.94 2.06.94-2.06 2.06-.94-2.06-.94-.94-2.06-.94 2.06-2.06.94zm-11 1L8.5 8.5l.94-2.06 2.06-.94-2.06-.94L8.5 2.5l-.94 2.06-2.06.94zm10 10l.94 2.06.94-2.06 2.06-.94-2.06-.94-.94-2.06-.94 2.06-2.06.94z\"/><path d=\"M17.41 7.96l-1.37-1.37c-.4-.4-.92-.59-1.43-.59-.52 0-1.04.2-1.43.59L10.3 9.45l-7.72 7.72c-.78.78-.78 2.05 0 2.83L4 21.41c.39.39.9.59 1.41.59.51 0 1.02-.2 1.41-.59l7.78-7.78 2.81-2.81c.8-.78.8-2.07 0-2.86zM5.41 20L4 18.59l7.72-7.72 1.47 1.35L5.41 20z\"/>\n",
              "  </svg>\n",
              "      </button>\n",
              "      \n",
              "  <style>\n",
              "    .colab-df-container {\n",
              "      display:flex;\n",
              "      flex-wrap:wrap;\n",
              "      gap: 12px;\n",
              "    }\n",
              "\n",
              "    .colab-df-convert {\n",
              "      background-color: #E8F0FE;\n",
              "      border: none;\n",
              "      border-radius: 50%;\n",
              "      cursor: pointer;\n",
              "      display: none;\n",
              "      fill: #1967D2;\n",
              "      height: 32px;\n",
              "      padding: 0 0 0 0;\n",
              "      width: 32px;\n",
              "    }\n",
              "\n",
              "    .colab-df-convert:hover {\n",
              "      background-color: #E2EBFA;\n",
              "      box-shadow: 0px 1px 2px rgba(60, 64, 67, 0.3), 0px 1px 3px 1px rgba(60, 64, 67, 0.15);\n",
              "      fill: #174EA6;\n",
              "    }\n",
              "\n",
              "    [theme=dark] .colab-df-convert {\n",
              "      background-color: #3B4455;\n",
              "      fill: #D2E3FC;\n",
              "    }\n",
              "\n",
              "    [theme=dark] .colab-df-convert:hover {\n",
              "      background-color: #434B5C;\n",
              "      box-shadow: 0px 1px 3px 1px rgba(0, 0, 0, 0.15);\n",
              "      filter: drop-shadow(0px 1px 2px rgba(0, 0, 0, 0.3));\n",
              "      fill: #FFFFFF;\n",
              "    }\n",
              "  </style>\n",
              "\n",
              "      <script>\n",
              "        const buttonEl =\n",
              "          document.querySelector('#df-37f55d5f-3915-448d-85e9-bd9eba7d56fb button.colab-df-convert');\n",
              "        buttonEl.style.display =\n",
              "          google.colab.kernel.accessAllowed ? 'block' : 'none';\n",
              "\n",
              "        async function convertToInteractive(key) {\n",
              "          const element = document.querySelector('#df-37f55d5f-3915-448d-85e9-bd9eba7d56fb');\n",
              "          const dataTable =\n",
              "            await google.colab.kernel.invokeFunction('convertToInteractive',\n",
              "                                                     [key], {});\n",
              "          if (!dataTable) return;\n",
              "\n",
              "          const docLinkHtml = 'Like what you see? Visit the ' +\n",
              "            '<a target=\"_blank\" href=https://colab.research.google.com/notebooks/data_table.ipynb>data table notebook</a>'\n",
              "            + ' to learn more about interactive tables.';\n",
              "          element.innerHTML = '';\n",
              "          dataTable['output_type'] = 'display_data';\n",
              "          await google.colab.output.renderOutput(dataTable, element);\n",
              "          const docLink = document.createElement('div');\n",
              "          docLink.innerHTML = docLinkHtml;\n",
              "          element.appendChild(docLink);\n",
              "        }\n",
              "      </script>\n",
              "    </div>\n",
              "  </div>\n",
              "  "
            ]
          },
          "metadata": {},
          "execution_count": 11
        }
      ]
    },
    {
      "cell_type": "code",
      "source": [
        "dataTest.head(10)\n",
        "# dataTest.shape"
      ],
      "metadata": {
        "colab": {
          "base_uri": "https://localhost:8080/",
          "height": 427
        },
        "id": "-bMXKC0g-Xwx",
        "outputId": "e34fd0c3-ab3a-4d10-945f-1cb395d2123b"
      },
      "execution_count": null,
      "outputs": [
        {
          "output_type": "execute_result",
          "data": {
            "text/plain": [
              "  Jenis_Kelamin  Umur  SIM  Kode_Daerah  Sudah_Asuransi Umur_Kendaraan  \\\n",
              "0        Wanita    49    1            8               0      1-2 Tahun   \n",
              "1          Pria    22    1           47               1      < 1 Tahun   \n",
              "2          Pria    24    1           28               1      < 1 Tahun   \n",
              "3          Pria    46    1            8               1      1-2 Tahun   \n",
              "4          Pria    35    1           23               0      1-2 Tahun   \n",
              "5          Pria    26    1           28               1      < 1 Tahun   \n",
              "6        Wanita    24    1           28               1      < 1 Tahun   \n",
              "7        Wanita    40    1           28               0      1-2 Tahun   \n",
              "8          Pria    23    1           15               1      < 1 Tahun   \n",
              "9        Wanita    43    1           28               0      1-2 Tahun   \n",
              "\n",
              "  Kendaraan_Rusak   Premi  Kanal_Penjualan  Lama_Berlangganan  Tertarik  \n",
              "0          Pernah   46963               26                145         0  \n",
              "1           Tidak   39624              152                241         0  \n",
              "2           Tidak  110479              152                 62         0  \n",
              "3           Tidak   36266              124                 34         0  \n",
              "4          Pernah   26963              152                229         0  \n",
              "5           Tidak   42721              152                198         0  \n",
              "6           Tidak   65801              152                160         0  \n",
              "7          Pernah   30981               26                 79         0  \n",
              "8           Tidak   32365              152                219         0  \n",
              "9          Pernah   65380               25                 41         1  "
            ],
            "text/html": [
              "\n",
              "  <div id=\"df-71bd8dcd-59ba-4ab6-b972-880bb01a9617\">\n",
              "    <div class=\"colab-df-container\">\n",
              "      <div>\n",
              "<style scoped>\n",
              "    .dataframe tbody tr th:only-of-type {\n",
              "        vertical-align: middle;\n",
              "    }\n",
              "\n",
              "    .dataframe tbody tr th {\n",
              "        vertical-align: top;\n",
              "    }\n",
              "\n",
              "    .dataframe thead th {\n",
              "        text-align: right;\n",
              "    }\n",
              "</style>\n",
              "<table border=\"1\" class=\"dataframe\">\n",
              "  <thead>\n",
              "    <tr style=\"text-align: right;\">\n",
              "      <th></th>\n",
              "      <th>Jenis_Kelamin</th>\n",
              "      <th>Umur</th>\n",
              "      <th>SIM</th>\n",
              "      <th>Kode_Daerah</th>\n",
              "      <th>Sudah_Asuransi</th>\n",
              "      <th>Umur_Kendaraan</th>\n",
              "      <th>Kendaraan_Rusak</th>\n",
              "      <th>Premi</th>\n",
              "      <th>Kanal_Penjualan</th>\n",
              "      <th>Lama_Berlangganan</th>\n",
              "      <th>Tertarik</th>\n",
              "    </tr>\n",
              "  </thead>\n",
              "  <tbody>\n",
              "    <tr>\n",
              "      <th>0</th>\n",
              "      <td>Wanita</td>\n",
              "      <td>49</td>\n",
              "      <td>1</td>\n",
              "      <td>8</td>\n",
              "      <td>0</td>\n",
              "      <td>1-2 Tahun</td>\n",
              "      <td>Pernah</td>\n",
              "      <td>46963</td>\n",
              "      <td>26</td>\n",
              "      <td>145</td>\n",
              "      <td>0</td>\n",
              "    </tr>\n",
              "    <tr>\n",
              "      <th>1</th>\n",
              "      <td>Pria</td>\n",
              "      <td>22</td>\n",
              "      <td>1</td>\n",
              "      <td>47</td>\n",
              "      <td>1</td>\n",
              "      <td>&lt; 1 Tahun</td>\n",
              "      <td>Tidak</td>\n",
              "      <td>39624</td>\n",
              "      <td>152</td>\n",
              "      <td>241</td>\n",
              "      <td>0</td>\n",
              "    </tr>\n",
              "    <tr>\n",
              "      <th>2</th>\n",
              "      <td>Pria</td>\n",
              "      <td>24</td>\n",
              "      <td>1</td>\n",
              "      <td>28</td>\n",
              "      <td>1</td>\n",
              "      <td>&lt; 1 Tahun</td>\n",
              "      <td>Tidak</td>\n",
              "      <td>110479</td>\n",
              "      <td>152</td>\n",
              "      <td>62</td>\n",
              "      <td>0</td>\n",
              "    </tr>\n",
              "    <tr>\n",
              "      <th>3</th>\n",
              "      <td>Pria</td>\n",
              "      <td>46</td>\n",
              "      <td>1</td>\n",
              "      <td>8</td>\n",
              "      <td>1</td>\n",
              "      <td>1-2 Tahun</td>\n",
              "      <td>Tidak</td>\n",
              "      <td>36266</td>\n",
              "      <td>124</td>\n",
              "      <td>34</td>\n",
              "      <td>0</td>\n",
              "    </tr>\n",
              "    <tr>\n",
              "      <th>4</th>\n",
              "      <td>Pria</td>\n",
              "      <td>35</td>\n",
              "      <td>1</td>\n",
              "      <td>23</td>\n",
              "      <td>0</td>\n",
              "      <td>1-2 Tahun</td>\n",
              "      <td>Pernah</td>\n",
              "      <td>26963</td>\n",
              "      <td>152</td>\n",
              "      <td>229</td>\n",
              "      <td>0</td>\n",
              "    </tr>\n",
              "    <tr>\n",
              "      <th>5</th>\n",
              "      <td>Pria</td>\n",
              "      <td>26</td>\n",
              "      <td>1</td>\n",
              "      <td>28</td>\n",
              "      <td>1</td>\n",
              "      <td>&lt; 1 Tahun</td>\n",
              "      <td>Tidak</td>\n",
              "      <td>42721</td>\n",
              "      <td>152</td>\n",
              "      <td>198</td>\n",
              "      <td>0</td>\n",
              "    </tr>\n",
              "    <tr>\n",
              "      <th>6</th>\n",
              "      <td>Wanita</td>\n",
              "      <td>24</td>\n",
              "      <td>1</td>\n",
              "      <td>28</td>\n",
              "      <td>1</td>\n",
              "      <td>&lt; 1 Tahun</td>\n",
              "      <td>Tidak</td>\n",
              "      <td>65801</td>\n",
              "      <td>152</td>\n",
              "      <td>160</td>\n",
              "      <td>0</td>\n",
              "    </tr>\n",
              "    <tr>\n",
              "      <th>7</th>\n",
              "      <td>Wanita</td>\n",
              "      <td>40</td>\n",
              "      <td>1</td>\n",
              "      <td>28</td>\n",
              "      <td>0</td>\n",
              "      <td>1-2 Tahun</td>\n",
              "      <td>Pernah</td>\n",
              "      <td>30981</td>\n",
              "      <td>26</td>\n",
              "      <td>79</td>\n",
              "      <td>0</td>\n",
              "    </tr>\n",
              "    <tr>\n",
              "      <th>8</th>\n",
              "      <td>Pria</td>\n",
              "      <td>23</td>\n",
              "      <td>1</td>\n",
              "      <td>15</td>\n",
              "      <td>1</td>\n",
              "      <td>&lt; 1 Tahun</td>\n",
              "      <td>Tidak</td>\n",
              "      <td>32365</td>\n",
              "      <td>152</td>\n",
              "      <td>219</td>\n",
              "      <td>0</td>\n",
              "    </tr>\n",
              "    <tr>\n",
              "      <th>9</th>\n",
              "      <td>Wanita</td>\n",
              "      <td>43</td>\n",
              "      <td>1</td>\n",
              "      <td>28</td>\n",
              "      <td>0</td>\n",
              "      <td>1-2 Tahun</td>\n",
              "      <td>Pernah</td>\n",
              "      <td>65380</td>\n",
              "      <td>25</td>\n",
              "      <td>41</td>\n",
              "      <td>1</td>\n",
              "    </tr>\n",
              "  </tbody>\n",
              "</table>\n",
              "</div>\n",
              "      <button class=\"colab-df-convert\" onclick=\"convertToInteractive('df-71bd8dcd-59ba-4ab6-b972-880bb01a9617')\"\n",
              "              title=\"Convert this dataframe to an interactive table.\"\n",
              "              style=\"display:none;\">\n",
              "        \n",
              "  <svg xmlns=\"http://www.w3.org/2000/svg\" height=\"24px\"viewBox=\"0 0 24 24\"\n",
              "       width=\"24px\">\n",
              "    <path d=\"M0 0h24v24H0V0z\" fill=\"none\"/>\n",
              "    <path d=\"M18.56 5.44l.94 2.06.94-2.06 2.06-.94-2.06-.94-.94-2.06-.94 2.06-2.06.94zm-11 1L8.5 8.5l.94-2.06 2.06-.94-2.06-.94L8.5 2.5l-.94 2.06-2.06.94zm10 10l.94 2.06.94-2.06 2.06-.94-2.06-.94-.94-2.06-.94 2.06-2.06.94z\"/><path d=\"M17.41 7.96l-1.37-1.37c-.4-.4-.92-.59-1.43-.59-.52 0-1.04.2-1.43.59L10.3 9.45l-7.72 7.72c-.78.78-.78 2.05 0 2.83L4 21.41c.39.39.9.59 1.41.59.51 0 1.02-.2 1.41-.59l7.78-7.78 2.81-2.81c.8-.78.8-2.07 0-2.86zM5.41 20L4 18.59l7.72-7.72 1.47 1.35L5.41 20z\"/>\n",
              "  </svg>\n",
              "      </button>\n",
              "      \n",
              "  <style>\n",
              "    .colab-df-container {\n",
              "      display:flex;\n",
              "      flex-wrap:wrap;\n",
              "      gap: 12px;\n",
              "    }\n",
              "\n",
              "    .colab-df-convert {\n",
              "      background-color: #E8F0FE;\n",
              "      border: none;\n",
              "      border-radius: 50%;\n",
              "      cursor: pointer;\n",
              "      display: none;\n",
              "      fill: #1967D2;\n",
              "      height: 32px;\n",
              "      padding: 0 0 0 0;\n",
              "      width: 32px;\n",
              "    }\n",
              "\n",
              "    .colab-df-convert:hover {\n",
              "      background-color: #E2EBFA;\n",
              "      box-shadow: 0px 1px 2px rgba(60, 64, 67, 0.3), 0px 1px 3px 1px rgba(60, 64, 67, 0.15);\n",
              "      fill: #174EA6;\n",
              "    }\n",
              "\n",
              "    [theme=dark] .colab-df-convert {\n",
              "      background-color: #3B4455;\n",
              "      fill: #D2E3FC;\n",
              "    }\n",
              "\n",
              "    [theme=dark] .colab-df-convert:hover {\n",
              "      background-color: #434B5C;\n",
              "      box-shadow: 0px 1px 3px 1px rgba(0, 0, 0, 0.15);\n",
              "      filter: drop-shadow(0px 1px 2px rgba(0, 0, 0, 0.3));\n",
              "      fill: #FFFFFF;\n",
              "    }\n",
              "  </style>\n",
              "\n",
              "      <script>\n",
              "        const buttonEl =\n",
              "          document.querySelector('#df-71bd8dcd-59ba-4ab6-b972-880bb01a9617 button.colab-df-convert');\n",
              "        buttonEl.style.display =\n",
              "          google.colab.kernel.accessAllowed ? 'block' : 'none';\n",
              "\n",
              "        async function convertToInteractive(key) {\n",
              "          const element = document.querySelector('#df-71bd8dcd-59ba-4ab6-b972-880bb01a9617');\n",
              "          const dataTable =\n",
              "            await google.colab.kernel.invokeFunction('convertToInteractive',\n",
              "                                                     [key], {});\n",
              "          if (!dataTable) return;\n",
              "\n",
              "          const docLinkHtml = 'Like what you see? Visit the ' +\n",
              "            '<a target=\"_blank\" href=https://colab.research.google.com/notebooks/data_table.ipynb>data table notebook</a>'\n",
              "            + ' to learn more about interactive tables.';\n",
              "          element.innerHTML = '';\n",
              "          dataTable['output_type'] = 'display_data';\n",
              "          await google.colab.output.renderOutput(dataTable, element);\n",
              "          const docLink = document.createElement('div');\n",
              "          docLink.innerHTML = docLinkHtml;\n",
              "          element.appendChild(docLink);\n",
              "        }\n",
              "      </script>\n",
              "    </div>\n",
              "  </div>\n",
              "  "
            ]
          },
          "metadata": {},
          "execution_count": 6
        }
      ]
    },
    {
      "cell_type": "code",
      "source": [
        "dataTrain.info()"
      ],
      "metadata": {
        "colab": {
          "base_uri": "https://localhost:8080/"
        },
        "id": "M_RtbPZ2-Xzs",
        "outputId": "08c264a2-cf84-471f-b7ca-9c4f5482aa1e"
      },
      "execution_count": null,
      "outputs": [
        {
          "output_type": "stream",
          "name": "stdout",
          "text": [
            "<class 'pandas.core.frame.DataFrame'>\n",
            "RangeIndex: 285831 entries, 0 to 285830\n",
            "Data columns (total 12 columns):\n",
            " #   Column             Non-Null Count   Dtype  \n",
            "---  ------             --------------   -----  \n",
            " 0   id                 285831 non-null  int64  \n",
            " 1   Jenis_Kelamin      271391 non-null  object \n",
            " 2   Umur               271617 non-null  float64\n",
            " 3   SIM                271427 non-null  float64\n",
            " 4   Kode_Daerah        271525 non-null  float64\n",
            " 5   Sudah_Asuransi     271602 non-null  float64\n",
            " 6   Umur_Kendaraan     271556 non-null  object \n",
            " 7   Kendaraan_Rusak    271643 non-null  object \n",
            " 8   Premi              271262 non-null  float64\n",
            " 9   Kanal_Penjualan    271532 non-null  float64\n",
            " 10  Lama_Berlangganan  271839 non-null  float64\n",
            " 11  Tertarik           285831 non-null  int64  \n",
            "dtypes: float64(7), int64(2), object(3)\n",
            "memory usage: 26.2+ MB\n"
          ]
        }
      ]
    },
    {
      "cell_type": "code",
      "source": [
        "dataTest.info()"
      ],
      "metadata": {
        "colab": {
          "base_uri": "https://localhost:8080/"
        },
        "id": "s0mWk3Y4-pLg",
        "outputId": "68668c8f-cbfc-49cf-aa46-0626f5de4fe4"
      },
      "execution_count": null,
      "outputs": [
        {
          "output_type": "stream",
          "name": "stdout",
          "text": [
            "<class 'pandas.core.frame.DataFrame'>\n",
            "RangeIndex: 47639 entries, 0 to 47638\n",
            "Data columns (total 11 columns):\n",
            " #   Column             Non-Null Count  Dtype \n",
            "---  ------             --------------  ----- \n",
            " 0   Jenis_Kelamin      47639 non-null  object\n",
            " 1   Umur               47639 non-null  int64 \n",
            " 2   SIM                47639 non-null  int64 \n",
            " 3   Kode_Daerah        47639 non-null  int64 \n",
            " 4   Sudah_Asuransi     47639 non-null  int64 \n",
            " 5   Umur_Kendaraan     47639 non-null  object\n",
            " 6   Kendaraan_Rusak    47639 non-null  object\n",
            " 7   Premi              47639 non-null  int64 \n",
            " 8   Kanal_Penjualan    47639 non-null  int64 \n",
            " 9   Lama_Berlangganan  47639 non-null  int64 \n",
            " 10  Tertarik           47639 non-null  int64 \n",
            "dtypes: int64(8), object(3)\n",
            "memory usage: 4.0+ MB\n"
          ]
        }
      ]
    },
    {
      "cell_type": "code",
      "source": [
        "dataTrain['Tertarik'].value_counts().plot.pie(autopct='%.2f')"
      ],
      "metadata": {
        "id": "3chOfPVzEorg",
        "outputId": "8942ec43-8e91-4bfd-bb61-891e2237dbdb",
        "colab": {
          "base_uri": "https://localhost:8080/",
          "height": 265
        }
      },
      "execution_count": null,
      "outputs": [
        {
          "output_type": "execute_result",
          "data": {
            "text/plain": [
              "<matplotlib.axes._subplots.AxesSubplot at 0x7f737afe9e20>"
            ]
          },
          "metadata": {},
          "execution_count": 13
        },
        {
          "output_type": "display_data",
          "data": {
            "text/plain": [
              "<Figure size 432x288 with 1 Axes>"
            ],
            "image/png": "[encoded data removed]"
          },
          "metadata": {}
        }
      ]
    },
    {
      "cell_type": "markdown",
      "source": [
        "imbalanced dataset"
      ],
      "metadata": {
        "id": "uub3Swn6DiJF"
      }
    },
    {
      "cell_type": "code",
      "source": [
        "cols = ['id','SIM']\n",
        "dataTrain[cols].hist(figsize=(12,8), bins=10, xlabelsize=8, ylabelsize"
      ],
      "metadata": {
        "id": "R28kdn4pBFBC",
        "colab": {
          "base_uri": "https://localhost:8080/",
          "height": 131
        },
        "outputId": "26d947f8-80e1-4427-e869-b1abf079272e"
      },
      "execution_count": null,
      "outputs": [
        {
          "output_type": "error",
          "ename": "SyntaxError",
          "evalue": "ignored",
          "traceback": [
            "\u001b[0;36m  File \u001b[0;32m\"<ipython-input-14-938fd29014e6>\"\u001b[0;36m, line \u001b[0;32m2\u001b[0m\n\u001b[0;31m    dataTrain[cols].hist(figsize=(12,8), bins=10, xlabelsize=8, ylabelsize\u001b[0m\n\u001b[0m                                                                          ^\u001b[0m\n\u001b[0;31mSyntaxError\u001b[0m\u001b[0;31m:\u001b[0m unexpected EOF while parsing\n"
          ]
        }
      ]
    },
    {
      "cell_type": "code",
      "source": [
        "\n",
        "temp_y = pd.DataFrame(y)\n",
        "temp_y"
      ],
      "metadata": {
        "colab": {
          "base_uri": "https://localhost:8080/",
          "height": 424
        },
        "id": "7op00Ih0D22h",
        "outputId": "6db31fb1-3dab-418b-a327-226dfd12fcb4"
      },
      "execution_count": null,
      "outputs": [
        {
          "output_type": "execute_result",
          "data": {
            "text/plain": [
              "        Tertarik\n",
              "0              0\n",
              "1              0\n",
              "2              0\n",
              "3              0\n",
              "4              0\n",
              "...          ...\n",
              "285826         0\n",
              "285827         0\n",
              "285828         0\n",
              "285829         0\n",
              "285830         0\n",
              "\n",
              "[285831 rows x 1 columns]"
            ],
            "text/html": [
              "\n",
              "  <div id=\"df-ed1b5a39-84f0-4931-ace0-81b4b164443c\">\n",
              "    <div class=\"colab-df-container\">\n",
              "      <div>\n",
              "<style scoped>\n",
              "    .dataframe tbody tr th:only-of-type {\n",
              "        vertical-align: middle;\n",
              "    }\n",
              "\n",
              "    .dataframe tbody tr th {\n",
              "        vertical-align: top;\n",
              "    }\n",
              "\n",
              "    .dataframe thead th {\n",
              "        text-align: right;\n",
              "    }\n",
              "</style>\n",
              "<table border=\"1\" class=\"dataframe\">\n",
              "  <thead>\n",
              "    <tr style=\"text-align: right;\">\n",
              "      <th></th>\n",
              "      <th>Tertarik</th>\n",
              "    </tr>\n",
              "  </thead>\n",
              "  <tbody>\n",
              "    <tr>\n",
              "      <th>0</th>\n",
              "      <td>0</td>\n",
              "    </tr>\n",
              "    <tr>\n",
              "      <th>1</th>\n",
              "      <td>0</td>\n",
              "    </tr>\n",
              "    <tr>\n",
              "      <th>2</th>\n",
              "      <td>0</td>\n",
              "    </tr>\n",
              "    <tr>\n",
              "      <th>3</th>\n",
              "      <td>0</td>\n",
              "    </tr>\n",
              "    <tr>\n",
              "      <th>4</th>\n",
              "      <td>0</td>\n",
              "    </tr>\n",
              "    <tr>\n",
              "      <th>...</th>\n",
              "      <td>...</td>\n",
              "    </tr>\n",
              "    <tr>\n",
              "      <th>285826</th>\n",
              "      <td>0</td>\n",
              "    </tr>\n",
              "    <tr>\n",
              "      <th>285827</th>\n",
              "      <td>0</td>\n",
              "    </tr>\n",
              "    <tr>\n",
              "      <th>285828</th>\n",
              "      <td>0</td>\n",
              "    </tr>\n",
              "    <tr>\n",
              "      <th>285829</th>\n",
              "      <td>0</td>\n",
              "    </tr>\n",
              "    <tr>\n",
              "      <th>285830</th>\n",
              "      <td>0</td>\n",
              "    </tr>\n",
              "  </tbody>\n",
              "</table>\n",
              "<p>285831 rows × 1 columns</p>\n",
              "</div>\n",
              "      <button class=\"colab-df-convert\" onclick=\"convertToInteractive('df-ed1b5a39-84f0-4931-ace0-81b4b164443c')\"\n",
              "              title=\"Convert this dataframe to an interactive table.\"\n",
              "              style=\"display:none;\">\n",
              "        \n",
              "  <svg xmlns=\"http://www.w3.org/2000/svg\" height=\"24px\"viewBox=\"0 0 24 24\"\n",
              "       width=\"24px\">\n",
              "    <path d=\"M0 0h24v24H0V0z\" fill=\"none\"/>\n",
              "    <path d=\"M18.56 5.44l.94 2.06.94-2.06 2.06-.94-2.06-.94-.94-2.06-.94 2.06-2.06.94zm-11 1L8.5 8.5l.94-2.06 2.06-.94-2.06-.94L8.5 2.5l-.94 2.06-2.06.94zm10 10l.94 2.06.94-2.06 2.06-.94-2.06-.94-.94-2.06-.94 2.06-2.06.94z\"/><path d=\"M17.41 7.96l-1.37-1.37c-.4-.4-.92-.59-1.43-.59-.52 0-1.04.2-1.43.59L10.3 9.45l-7.72 7.72c-.78.78-.78 2.05 0 2.83L4 21.41c.39.39.9.59 1.41.59.51 0 1.02-.2 1.41-.59l7.78-7.78 2.81-2.81c.8-.78.8-2.07 0-2.86zM5.41 20L4 18.59l7.72-7.72 1.47 1.35L5.41 20z\"/>\n",
              "  </svg>\n",
              "      </button>\n",
              "      \n",
              "  <style>\n",
              "    .colab-df-container {\n",
              "      display:flex;\n",
              "      flex-wrap:wrap;\n",
              "      gap: 12px;\n",
              "    }\n",
              "\n",
              "    .colab-df-convert {\n",
              "      background-color: #E8F0FE;\n",
              "      border: none;\n",
              "      border-radius: 50%;\n",
              "      cursor: pointer;\n",
              "      display: none;\n",
              "      fill: #1967D2;\n",
              "      height: 32px;\n",
              "      padding: 0 0 0 0;\n",
              "      width: 32px;\n",
              "    }\n",
              "\n",
              "    .colab-df-convert:hover {\n",
              "      background-color: #E2EBFA;\n",
              "      box-shadow: 0px 1px 2px rgba(60, 64, 67, 0.3), 0px 1px 3px 1px rgba(60, 64, 67, 0.15);\n",
              "      fill: #174EA6;\n",
              "    }\n",
              "\n",
              "    [theme=dark] .colab-df-convert {\n",
              "      background-color: #3B4455;\n",
              "      fill: #D2E3FC;\n",
              "    }\n",
              "\n",
              "    [theme=dark] .colab-df-convert:hover {\n",
              "      background-color: #434B5C;\n",
              "      box-shadow: 0px 1px 3px 1px rgba(0, 0, 0, 0.15);\n",
              "      filter: drop-shadow(0px 1px 2px rgba(0, 0, 0, 0.3));\n",
              "      fill: #FFFFFF;\n",
              "    }\n",
              "  </style>\n",
              "\n",
              "      <script>\n",
              "        const buttonEl =\n",
              "          document.querySelector('#df-ed1b5a39-84f0-4931-ace0-81b4b164443c button.colab-df-convert');\n",
              "        buttonEl.style.display =\n",
              "          google.colab.kernel.accessAllowed ? 'block' : 'none';\n",
              "\n",
              "        async function convertToInteractive(key) {\n",
              "          const element = document.querySelector('#df-ed1b5a39-84f0-4931-ace0-81b4b164443c');\n",
              "          const dataTable =\n",
              "            await google.colab.kernel.invokeFunction('convertToInteractive',\n",
              "                                                     [key], {});\n",
              "          if (!dataTable) return;\n",
              "\n",
              "          const docLinkHtml = 'Like what you see? Visit the ' +\n",
              "            '<a target=\"_blank\" href=https://colab.research.google.com/notebooks/data_table.ipynb>data table notebook</a>'\n",
              "            + ' to learn more about interactive tables.';\n",
              "          element.innerHTML = '';\n",
              "          dataTable['output_type'] = 'display_data';\n",
              "          await google.colab.output.renderOutput(dataTable, element);\n",
              "          const docLink = document.createElement('div');\n",
              "          docLink.innerHTML = docLinkHtml;\n",
              "          element.appendChild(docLink);\n",
              "        }\n",
              "      </script>\n",
              "    </div>\n",
              "  </div>\n",
              "  "
            ]
          },
          "metadata": {},
          "execution_count": 22
        }
      ]
    },
    {
      "cell_type": "code",
      "source": [
        "y.value_counts().plot.pie(autopct='%.2f')"
      ],
      "metadata": {
        "colab": {
          "base_uri": "https://localhost:8080/",
          "height": 265
        },
        "id": "6nHZGLXDD2vw",
        "outputId": "36af0dfa-d5de-4e33-edc9-1f4f0467f695"
      },
      "execution_count": null,
      "outputs": [
        {
          "output_type": "execute_result",
          "data": {
            "text/plain": [
              "<matplotlib.axes._subplots.AxesSubplot at 0x7f6799920190>"
            ]
          },
          "metadata": {},
          "execution_count": 18
        },
        {
          "output_type": "display_data",
          "data": {
            "text/plain": [
              "<Figure size 432x288 with 1 Axes>"
            ],
            "image/png": "[encoded data removed]"
          },
          "metadata": {}
        }
      ]
    },
    {
      "cell_type": "code",
      "source": [
        "# pelanggan tertarik\n",
        "iya = temp_y.apply(lambda x: True if x['Tertarik'] == 1 else False , axis=1)\n",
        "# Count number of True in series\n",
        "numOfRows = len(iya[iya == True].index)\n",
        "print('Number of Rows in dataframe that tertarik is 1 : ', numOfRows)"
      ],
      "metadata": {
        "colab": {
          "base_uri": "https://localhost:8080/"
        },
        "id": "_3AILpSMD81P",
        "outputId": "756c36b2-fb41-456b-fdca-27fbd842068c"
      },
      "execution_count": null,
      "outputs": [
        {
          "output_type": "stream",
          "name": "stdout",
          "text": [
            "Number of Rows in dataframe that tertarik is 1 :  35006\n"
          ]
        }
      ]
    },
    {
      "cell_type": "code",
      "source": [
        "# pelanggan tidak tertarik\n",
        "iya = temp_y.apply(lambda x: True if x['Tertarik'] == 0 else False , axis=1)\n",
        "# Count number of True in series\n",
        "numOfRows = len(iya[iya == True].index)\n",
        "print('Number of Rows in dataframe that tertarik is 0 : ', numOfRows)\n",
        "     "
      ],
      "metadata": {
        "colab": {
          "base_uri": "https://localhost:8080/"
        },
        "id": "Y94-P9MMD83Q",
        "outputId": "fbb97a4e-b560-40aa-816b-d24eaaa240b6"
      },
      "execution_count": null,
      "outputs": [
        {
          "output_type": "stream",
          "name": "stdout",
          "text": [
            "Number of Rows in dataframe that tertarik is 0 :  250825\n"
          ]
        }
      ]
    },
    {
      "cell_type": "markdown",
      "source": [
        "Keterangan :\n",
        "data cukup tidak seimbang antara label. dimana pelanggan yang tidak tertarik (label 'Tertarik' == 0) lebih banyak dari pelanggan yang tertarik.\n",
        "\n",
        "    tidak tertarik ~ 87.75 % / 250825 pelanggan\n",
        "    tertarik ~ 12.25 % / 35006 pelanggan\n",
        "\n"
      ],
      "metadata": {
        "id": "vudqQ7gfEHOc"
      }
    }
  ]
}